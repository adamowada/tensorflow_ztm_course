{
 "cells": [
  {
   "cell_type": "code",
   "execution_count": 1,
   "metadata": {
    "_cell_guid": "b1076dfc-b9ad-4769-8c92-a6c4dae69d19",
    "_uuid": "8f2839f25d086af736a60e9eeb907d3b93b6e0e5",
    "execution": {
     "iopub.execute_input": "2023-10-30T01:07:24.485755Z",
     "iopub.status.busy": "2023-10-30T01:07:24.485360Z",
     "iopub.status.idle": "2023-10-30T01:07:33.559229Z",
     "shell.execute_reply": "2023-10-30T01:07:33.558050Z",
     "shell.execute_reply.started": "2023-10-30T01:07:24.485723Z"
    }
   },
   "outputs": [],
   "source": [
    "# This Python 3 environment comes with many helpful analytics libraries installed\n",
    "# It is defined by the kaggle/python Docker image: https://github.com/kaggle/docker-python\n",
    "# For example, here's several helpful packages to load\n",
    "\n",
    "import numpy as np # linear algebra\n",
    "import pandas as pd # data processing, CSV file I/O (e.g. pd.read_csv)\n",
    "import tensorflow as tf\n",
    "\n",
    "# Input data files are available in the read-only \"../input/\" directory\n",
    "# For example, running this (by clicking run or pressing Shift+Enter) will list all files under the input directory\n",
    "\n",
    "import os\n",
    "for dirname, _, filenames in os.walk('/kaggle/input'):\n",
    "    for filename in filenames:\n",
    "        print(os.path.join(dirname, filename))\n",
    "\n",
    "# You can write up to 20GB to the current directory (/kaggle/working/) that gets preserved as output when you create a version using \"Save & Run All\" \n",
    "# You can also write temporary files to /kaggle/temp/, but they won't be saved outside of the current session"
   ]
  },
  {
   "cell_type": "code",
   "execution_count": 2,
   "metadata": {
    "execution": {
     "iopub.execute_input": "2023-10-30T01:07:33.561911Z",
     "iopub.status.busy": "2023-10-30T01:07:33.561263Z",
     "iopub.status.idle": "2023-10-30T01:07:33.567952Z",
     "shell.execute_reply": "2023-10-30T01:07:33.566329Z",
     "shell.execute_reply.started": "2023-10-30T01:07:33.561871Z"
    }
   },
   "outputs": [
    {
     "name": "stdout",
     "output_type": "stream",
     "text": [
      "2.12.0\n"
     ]
    }
   ],
   "source": [
    "print(tf.__version__)"
   ]
  },
  {
   "cell_type": "markdown",
   "metadata": {},
   "source": [
    "# **Use `shift+tab` to view a function's docstring!!!**"
   ]
  },
  {
   "cell_type": "markdown",
   "metadata": {},
   "source": [
    "## [tf.constant](https://www.tensorflow.org/api_docs/python/tf/constant)"
   ]
  },
  {
   "cell_type": "code",
   "execution_count": 3,
   "metadata": {
    "execution": {
     "iopub.execute_input": "2023-10-30T01:07:33.570263Z",
     "iopub.status.busy": "2023-10-30T01:07:33.569852Z",
     "iopub.status.idle": "2023-10-30T01:07:33.668353Z",
     "shell.execute_reply": "2023-10-30T01:07:33.667056Z",
     "shell.execute_reply.started": "2023-10-30T01:07:33.570234Z"
    }
   },
   "outputs": [
    {
     "data": {
      "text/plain": [
       "<tf.Tensor: shape=(), dtype=int32, numpy=7>"
      ]
     },
     "execution_count": 3,
     "metadata": {},
     "output_type": "execute_result"
    }
   ],
   "source": [
    "# Create tensors with tf.constant()\n",
    "scalar = tf.constant(7)\n",
    "scalar"
   ]
  },
  {
   "cell_type": "code",
   "execution_count": 4,
   "metadata": {
    "execution": {
     "iopub.execute_input": "2023-10-30T01:07:33.672375Z",
     "iopub.status.busy": "2023-10-30T01:07:33.671929Z",
     "iopub.status.idle": "2023-10-30T01:07:33.678860Z",
     "shell.execute_reply": "2023-10-30T01:07:33.677935Z",
     "shell.execute_reply.started": "2023-10-30T01:07:33.672336Z"
    }
   },
   "outputs": [
    {
     "data": {
      "text/plain": [
       "0"
      ]
     },
     "execution_count": 4,
     "metadata": {},
     "output_type": "execute_result"
    }
   ],
   "source": [
    "# Num of dimensions\n",
    "scalar.ndim"
   ]
  },
  {
   "cell_type": "code",
   "execution_count": 5,
   "metadata": {
    "execution": {
     "iopub.execute_input": "2023-10-30T01:07:33.680969Z",
     "iopub.status.busy": "2023-10-30T01:07:33.680112Z",
     "iopub.status.idle": "2023-10-30T01:07:33.696025Z",
     "shell.execute_reply": "2023-10-30T01:07:33.694519Z",
     "shell.execute_reply.started": "2023-10-30T01:07:33.680938Z"
    }
   },
   "outputs": [
    {
     "data": {
      "text/plain": [
       "<tf.Tensor: shape=(2,), dtype=int32, numpy=array([10, 10], dtype=int32)>"
      ]
     },
     "execution_count": 5,
     "metadata": {},
     "output_type": "execute_result"
    }
   ],
   "source": [
    "# Create a vector\n",
    "vector = tf.constant([10, 10])\n",
    "vector"
   ]
  },
  {
   "cell_type": "code",
   "execution_count": 6,
   "metadata": {
    "execution": {
     "iopub.execute_input": "2023-10-30T01:07:33.698233Z",
     "iopub.status.busy": "2023-10-30T01:07:33.697893Z",
     "iopub.status.idle": "2023-10-30T01:07:33.709119Z",
     "shell.execute_reply": "2023-10-30T01:07:33.707687Z",
     "shell.execute_reply.started": "2023-10-30T01:07:33.698194Z"
    }
   },
   "outputs": [
    {
     "data": {
      "text/plain": [
       "1"
      ]
     },
     "execution_count": 6,
     "metadata": {},
     "output_type": "execute_result"
    }
   ],
   "source": [
    "# Vector dim\n",
    "vector.ndim"
   ]
  },
  {
   "cell_type": "code",
   "execution_count": 7,
   "metadata": {
    "execution": {
     "iopub.execute_input": "2023-10-30T01:07:33.712004Z",
     "iopub.status.busy": "2023-10-30T01:07:33.711539Z",
     "iopub.status.idle": "2023-10-30T01:07:33.722175Z",
     "shell.execute_reply": "2023-10-30T01:07:33.720863Z",
     "shell.execute_reply.started": "2023-10-30T01:07:33.711975Z"
    }
   },
   "outputs": [
    {
     "data": {
      "text/plain": [
       "<tf.Tensor: shape=(2, 2), dtype=int32, numpy=\n",
       "array([[10,  7],\n",
       "       [ 7, 10]], dtype=int32)>"
      ]
     },
     "execution_count": 7,
     "metadata": {},
     "output_type": "execute_result"
    }
   ],
   "source": [
    "# Create a matrix (more than 1 dimension)\n",
    "matrix = tf.constant([[10, 7],\n",
    "                      [7, 10]])\n",
    "\n",
    "matrix"
   ]
  },
  {
   "cell_type": "code",
   "execution_count": 8,
   "metadata": {
    "execution": {
     "iopub.execute_input": "2023-10-30T01:07:33.724671Z",
     "iopub.status.busy": "2023-10-30T01:07:33.724177Z",
     "iopub.status.idle": "2023-10-30T01:07:33.734302Z",
     "shell.execute_reply": "2023-10-30T01:07:33.733140Z",
     "shell.execute_reply.started": "2023-10-30T01:07:33.724635Z"
    }
   },
   "outputs": [
    {
     "data": {
      "text/plain": [
       "2"
      ]
     },
     "execution_count": 8,
     "metadata": {},
     "output_type": "execute_result"
    }
   ],
   "source": [
    "matrix.ndim"
   ]
  },
  {
   "cell_type": "code",
   "execution_count": 9,
   "metadata": {
    "execution": {
     "iopub.execute_input": "2023-10-30T01:07:33.736971Z",
     "iopub.status.busy": "2023-10-30T01:07:33.736591Z",
     "iopub.status.idle": "2023-10-30T01:07:33.749609Z",
     "shell.execute_reply": "2023-10-30T01:07:33.748373Z",
     "shell.execute_reply.started": "2023-10-30T01:07:33.736940Z"
    }
   },
   "outputs": [
    {
     "data": {
      "text/plain": [
       "<tf.Tensor: shape=(3, 2), dtype=float16, numpy=\n",
       "array([[10.,  7.],\n",
       "       [ 7., 10.],\n",
       "       [ 8.,  9.]], dtype=float16)>"
      ]
     },
     "execution_count": 9,
     "metadata": {},
     "output_type": "execute_result"
    }
   ],
   "source": [
    "another_matrix = tf.constant([[10., 7.],\n",
    "                              [7., 10.],\n",
    "                              [8., 9.]], dtype=tf.float16)\n",
    "another_matrix\n"
   ]
  },
  {
   "cell_type": "code",
   "execution_count": 10,
   "metadata": {
    "execution": {
     "iopub.execute_input": "2023-10-30T01:07:33.755256Z",
     "iopub.status.busy": "2023-10-30T01:07:33.754642Z",
     "iopub.status.idle": "2023-10-30T01:07:33.762064Z",
     "shell.execute_reply": "2023-10-30T01:07:33.760847Z",
     "shell.execute_reply.started": "2023-10-30T01:07:33.755220Z"
    }
   },
   "outputs": [
    {
     "data": {
      "text/plain": [
       "2"
      ]
     },
     "execution_count": 10,
     "metadata": {},
     "output_type": "execute_result"
    }
   ],
   "source": [
    "another_matrix.ndim"
   ]
  },
  {
   "cell_type": "code",
   "execution_count": 11,
   "metadata": {
    "execution": {
     "iopub.execute_input": "2023-10-30T01:07:33.763665Z",
     "iopub.status.busy": "2023-10-30T01:07:33.763246Z",
     "iopub.status.idle": "2023-10-30T01:07:33.775573Z",
     "shell.execute_reply": "2023-10-30T01:07:33.774345Z",
     "shell.execute_reply.started": "2023-10-30T01:07:33.763627Z"
    }
   },
   "outputs": [
    {
     "data": {
      "text/plain": [
       "<tf.Tensor: shape=(1, 2, 3), dtype=int32, numpy=\n",
       "array([[[1, 2, 3],\n",
       "        [1, 2, 3]]], dtype=int32)>"
      ]
     },
     "execution_count": 11,
     "metadata": {},
     "output_type": "execute_result"
    }
   ],
   "source": [
    "tensor = tf.constant([[[1, 2, 3], [1, 2, 3]]])\n",
    "\n",
    "tensor"
   ]
  },
  {
   "cell_type": "code",
   "execution_count": 12,
   "metadata": {
    "execution": {
     "iopub.execute_input": "2023-10-30T01:07:33.777583Z",
     "iopub.status.busy": "2023-10-30T01:07:33.777187Z",
     "iopub.status.idle": "2023-10-30T01:07:33.786720Z",
     "shell.execute_reply": "2023-10-30T01:07:33.785571Z",
     "shell.execute_reply.started": "2023-10-30T01:07:33.777538Z"
    }
   },
   "outputs": [
    {
     "data": {
      "text/plain": [
       "3"
      ]
     },
     "execution_count": 12,
     "metadata": {},
     "output_type": "execute_result"
    }
   ],
   "source": [
    "tensor.ndim"
   ]
  },
  {
   "cell_type": "markdown",
   "metadata": {},
   "source": [
    "- scalar = single number\n",
    "- vector = 1 dim array\n",
    "- matrix = 2 dim array\n",
    "- tensor = n dim array"
   ]
  },
  {
   "cell_type": "markdown",
   "metadata": {},
   "source": [
    "# Creating Tensors with tf.Variable()\n",
    "[tf.Variable](https://www.tensorflow.org/api_docs/python/tf/Variable)"
   ]
  },
  {
   "cell_type": "code",
   "execution_count": 13,
   "metadata": {
    "execution": {
     "iopub.execute_input": "2023-10-30T01:07:33.788729Z",
     "iopub.status.busy": "2023-10-30T01:07:33.788420Z",
     "iopub.status.idle": "2023-10-30T01:07:33.812666Z",
     "shell.execute_reply": "2023-10-30T01:07:33.811537Z",
     "shell.execute_reply.started": "2023-10-30T01:07:33.788702Z"
    }
   },
   "outputs": [
    {
     "data": {
      "text/plain": [
       "(<tf.Variable 'Variable:0' shape=(2,) dtype=int32, numpy=array([10,  7], dtype=int32)>,\n",
       " <tf.Tensor: shape=(2,), dtype=int32, numpy=array([10,  7], dtype=int32)>)"
      ]
     },
     "execution_count": 13,
     "metadata": {},
     "output_type": "execute_result"
    }
   ],
   "source": [
    "changeable_tensor = tf.Variable([10, 7])\n",
    "unchangeable_tensor = tf.constant([10, 7])\n",
    "\n",
    "changeable_tensor, unchangeable_tensor"
   ]
  },
  {
   "cell_type": "code",
   "execution_count": 14,
   "metadata": {
    "execution": {
     "iopub.execute_input": "2023-10-30T01:07:33.815837Z",
     "iopub.status.busy": "2023-10-30T01:07:33.815502Z",
     "iopub.status.idle": "2023-10-30T01:07:33.823367Z",
     "shell.execute_reply": "2023-10-30T01:07:33.822120Z",
     "shell.execute_reply.started": "2023-10-30T01:07:33.815810Z"
    }
   },
   "outputs": [
    {
     "data": {
      "text/plain": [
       "<tf.Variable 'Variable:0' shape=(2,) dtype=int32, numpy=array([10,  7], dtype=int32)>"
      ]
     },
     "execution_count": 14,
     "metadata": {},
     "output_type": "execute_result"
    }
   ],
   "source": [
    "# changeable_tensor[0] = 7\n",
    "changeable_tensor"
   ]
  },
  {
   "cell_type": "code",
   "execution_count": 15,
   "metadata": {
    "execution": {
     "iopub.execute_input": "2023-10-30T01:07:33.825483Z",
     "iopub.status.busy": "2023-10-30T01:07:33.824907Z",
     "iopub.status.idle": "2023-10-30T01:07:33.853494Z",
     "shell.execute_reply": "2023-10-30T01:07:33.852229Z",
     "shell.execute_reply.started": "2023-10-30T01:07:33.825452Z"
    }
   },
   "outputs": [
    {
     "data": {
      "text/plain": [
       "<tf.Variable 'Variable:0' shape=(2,) dtype=int32, numpy=array([7, 7], dtype=int32)>"
      ]
     },
     "execution_count": 15,
     "metadata": {},
     "output_type": "execute_result"
    }
   ],
   "source": [
    "# Use .assign()\n",
    "changeable_tensor[0].assign(7)\n",
    "changeable_tensor"
   ]
  },
  {
   "cell_type": "code",
   "execution_count": 16,
   "metadata": {
    "execution": {
     "iopub.execute_input": "2023-10-30T01:07:33.855229Z",
     "iopub.status.busy": "2023-10-30T01:07:33.854887Z",
     "iopub.status.idle": "2023-10-30T01:07:33.863039Z",
     "shell.execute_reply": "2023-10-30T01:07:33.862053Z",
     "shell.execute_reply.started": "2023-10-30T01:07:33.855200Z"
    }
   },
   "outputs": [
    {
     "data": {
      "text/plain": [
       "<tf.Tensor: shape=(2,), dtype=int32, numpy=array([10,  7], dtype=int32)>"
      ]
     },
     "execution_count": 16,
     "metadata": {},
     "output_type": "execute_result"
    }
   ],
   "source": [
    "# Doesn't work with unchangeable\n",
    "# unchangeable_tensor[0].assign(7)\n",
    "unchangeable_tensor"
   ]
  },
  {
   "cell_type": "markdown",
   "metadata": {},
   "source": [
    "^ difference between changeable tensors vs unchangeable tensors\n",
    "\n",
    "Usually tensorflow does it for you. If you need to create tensors, make constant unless need variability"
   ]
  },
  {
   "cell_type": "markdown",
   "metadata": {},
   "source": [
    "# Random tensors\n",
    "\n",
    "- https://www.tensorflow.org/api_docs/python/tf/random/Generator\n",
    "- https://www.tensorflow.org/api_docs/python/tf/random/uniform"
   ]
  },
  {
   "cell_type": "code",
   "execution_count": 17,
   "metadata": {
    "execution": {
     "iopub.execute_input": "2023-10-30T01:07:33.864764Z",
     "iopub.status.busy": "2023-10-30T01:07:33.864426Z",
     "iopub.status.idle": "2023-10-30T01:07:33.941668Z",
     "shell.execute_reply": "2023-10-30T01:07:33.940341Z",
     "shell.execute_reply.started": "2023-10-30T01:07:33.864736Z"
    }
   },
   "outputs": [
    {
     "data": {
      "text/plain": [
       "<tf.Tensor: shape=(3, 2), dtype=float32, numpy=\n",
       "array([[-0.7531523 ,  2.0261486 ],\n",
       "       [-0.06997604,  0.85445154],\n",
       "       [ 0.1175475 ,  0.03493892]], dtype=float32)>"
      ]
     },
     "execution_count": 17,
     "metadata": {},
     "output_type": "execute_result"
    }
   ],
   "source": [
    "random_1 = tf.random.Generator.from_seed(22)\n",
    "random_1 = random_1.normal(shape=(3, 2))\n",
    "random_1"
   ]
  },
  {
   "cell_type": "markdown",
   "metadata": {},
   "source": [
    "# Shuffle the order of a tensor\n",
    "Eg. the input is first 5000 ramen, second 5000 spaghetti, and you want to randomize the order of the inputs\n",
    "- [tf.random.shuffle](https://www.tensorflow.org/api_docs/python/tf/random/shuffle)\n",
    "- [tf.random.set_seed](https://www.tensorflow.org/api_docs/python/tf/random/set_seed)\n"
   ]
  },
  {
   "cell_type": "code",
   "execution_count": 18,
   "metadata": {
    "execution": {
     "iopub.execute_input": "2023-10-30T01:07:33.944068Z",
     "iopub.status.busy": "2023-10-30T01:07:33.943381Z",
     "iopub.status.idle": "2023-10-30T01:07:33.952342Z",
     "shell.execute_reply": "2023-10-30T01:07:33.951105Z",
     "shell.execute_reply.started": "2023-10-30T01:07:33.944030Z"
    }
   },
   "outputs": [
    {
     "data": {
      "text/plain": [
       "2"
      ]
     },
     "execution_count": 18,
     "metadata": {},
     "output_type": "execute_result"
    }
   ],
   "source": [
    "not_shuffled = tf.constant([[10, 7],\n",
    "                           [3, 4],\n",
    "                           [2, 5]])\n",
    "not_shuffled.ndim"
   ]
  },
  {
   "cell_type": "code",
   "execution_count": 19,
   "metadata": {
    "execution": {
     "iopub.execute_input": "2023-10-30T01:07:33.954462Z",
     "iopub.status.busy": "2023-10-30T01:07:33.953954Z",
     "iopub.status.idle": "2023-10-30T01:07:33.977417Z",
     "shell.execute_reply": "2023-10-30T01:07:33.976276Z",
     "shell.execute_reply.started": "2023-10-30T01:07:33.954419Z"
    }
   },
   "outputs": [
    {
     "data": {
      "text/plain": [
       "<tf.Tensor: shape=(3, 2), dtype=int32, numpy=\n",
       "array([[10,  7],\n",
       "       [ 3,  4],\n",
       "       [ 2,  5]], dtype=int32)>"
      ]
     },
     "execution_count": 19,
     "metadata": {},
     "output_type": "execute_result"
    }
   ],
   "source": [
    "# Shuffle our tensor along the first dimension. Returns a new tensor\n",
    "# doesn't shuffle in place\n",
    "\n",
    "tf.random.set_seed(42)  # sets global seed\n",
    "tf.random.shuffle(not_shuffled, seed=42)  # sets operation seed"
   ]
  },
  {
   "cell_type": "markdown",
   "metadata": {},
   "source": [
    "# Other ways to make tensors"
   ]
  },
  {
   "cell_type": "code",
   "execution_count": 20,
   "metadata": {
    "execution": {
     "iopub.execute_input": "2023-10-30T01:07:33.980145Z",
     "iopub.status.busy": "2023-10-30T01:07:33.979807Z",
     "iopub.status.idle": "2023-10-30T01:07:33.991681Z",
     "shell.execute_reply": "2023-10-30T01:07:33.990949Z",
     "shell.execute_reply.started": "2023-10-30T01:07:33.980116Z"
    }
   },
   "outputs": [
    {
     "data": {
      "text/plain": [
       "<tf.Tensor: shape=(10, 7), dtype=float32, numpy=\n",
       "array([[1., 1., 1., 1., 1., 1., 1.],\n",
       "       [1., 1., 1., 1., 1., 1., 1.],\n",
       "       [1., 1., 1., 1., 1., 1., 1.],\n",
       "       [1., 1., 1., 1., 1., 1., 1.],\n",
       "       [1., 1., 1., 1., 1., 1., 1.],\n",
       "       [1., 1., 1., 1., 1., 1., 1.],\n",
       "       [1., 1., 1., 1., 1., 1., 1.],\n",
       "       [1., 1., 1., 1., 1., 1., 1.],\n",
       "       [1., 1., 1., 1., 1., 1., 1.],\n",
       "       [1., 1., 1., 1., 1., 1., 1.]], dtype=float32)>"
      ]
     },
     "execution_count": 20,
     "metadata": {},
     "output_type": "execute_result"
    }
   ],
   "source": [
    "# Create a tensor of all ones\n",
    "tf.ones([10,7])"
   ]
  },
  {
   "cell_type": "code",
   "execution_count": 21,
   "metadata": {
    "execution": {
     "iopub.execute_input": "2023-10-30T01:07:33.993427Z",
     "iopub.status.busy": "2023-10-30T01:07:33.993139Z",
     "iopub.status.idle": "2023-10-30T01:07:34.003468Z",
     "shell.execute_reply": "2023-10-30T01:07:34.002706Z",
     "shell.execute_reply.started": "2023-10-30T01:07:33.993403Z"
    }
   },
   "outputs": [
    {
     "data": {
      "text/plain": [
       "<tf.Tensor: shape=(3, 4), dtype=float32, numpy=\n",
       "array([[0., 0., 0., 0.],\n",
       "       [0., 0., 0., 0.],\n",
       "       [0., 0., 0., 0.]], dtype=float32)>"
      ]
     },
     "execution_count": 21,
     "metadata": {},
     "output_type": "execute_result"
    }
   ],
   "source": [
    "# Create a tensor of all zeros\n",
    "tf.zeros(shape=(3, 4))"
   ]
  },
  {
   "cell_type": "markdown",
   "metadata": {},
   "source": [
    "The difference between numpy arrays and tensorflow tensors is that tensors can be run on a GPU\n",
    "\n",
    "Variable naming:\n",
    "- X = tf.constant(some_matrix)  # capital for matrix or tensor\n",
    "- y = tf.constant(vector) # lower case for vector"
   ]
  },
  {
   "cell_type": "code",
   "execution_count": 22,
   "metadata": {
    "execution": {
     "iopub.execute_input": "2023-10-30T01:07:34.005115Z",
     "iopub.status.busy": "2023-10-30T01:07:34.004691Z",
     "iopub.status.idle": "2023-10-30T01:07:34.014630Z",
     "shell.execute_reply": "2023-10-30T01:07:34.013527Z",
     "shell.execute_reply.started": "2023-10-30T01:07:34.005086Z"
    }
   },
   "outputs": [
    {
     "data": {
      "text/plain": [
       "array([ 1,  2,  3,  4,  5,  6,  7,  8,  9, 10, 11, 12, 13, 14, 15, 16, 17,\n",
       "       18, 19, 20, 21, 22, 23, 24], dtype=int32)"
      ]
     },
     "execution_count": 22,
     "metadata": {},
     "output_type": "execute_result"
    }
   ],
   "source": [
    "# Turn numpy arrays into tensors\n",
    "numpy_A = np.arange(1, 25, dtype=np.int32)\n",
    "numpy_A"
   ]
  },
  {
   "cell_type": "code",
   "execution_count": 23,
   "metadata": {
    "execution": {
     "iopub.execute_input": "2023-10-30T01:07:34.016348Z",
     "iopub.status.busy": "2023-10-30T01:07:34.016032Z",
     "iopub.status.idle": "2023-10-30T01:07:34.029275Z",
     "shell.execute_reply": "2023-10-30T01:07:34.028029Z",
     "shell.execute_reply.started": "2023-10-30T01:07:34.016311Z"
    }
   },
   "outputs": [
    {
     "data": {
      "text/plain": [
       "<tf.Tensor: shape=(2, 3, 4), dtype=int32, numpy=\n",
       "array([[[ 1,  2,  3,  4],\n",
       "        [ 5,  6,  7,  8],\n",
       "        [ 9, 10, 11, 12]],\n",
       "\n",
       "       [[13, 14, 15, 16],\n",
       "        [17, 18, 19, 20],\n",
       "        [21, 22, 23, 24]]], dtype=int32)>"
      ]
     },
     "execution_count": 23,
     "metadata": {},
     "output_type": "execute_result"
    }
   ],
   "source": [
    "A = tf.constant(numpy_A, shape=(2, 3, 4))\n",
    "A"
   ]
  },
  {
   "cell_type": "markdown",
   "metadata": {},
   "source": [
    "# Getting information from tensors\n",
    "\n",
    "- Shape: [tensor.shape](https://www.tensorflow.org/api_docs/python/tf/shape) The length (number of elements) of each of the dimensions of a tensor\n",
    "- Rank: [tensor.rank](https://www.tensorflow.org/api_docs/python/tf/rank) The number of tensor dimensions. Scalar has rank 0, a vector has rank 1, etc.\n",
    "- Axis or dimension: [Indexing](https://www.tensorflow.org/guide/tensor#indexing) \n",
    "  - TensorFlow follows standard Python indexing rules, similar to indexing a list or a string in Python, and the basic rules for NumPy indexing.\n",
    "    - indexes start at 0\n",
    "    - negative indices count backwards from the end\n",
    "    - colons, :, are used for slices: start:stop:step\n",
    "- Size: [tf.size](https://www.tensorflow.org/api_docs/python/tf/size) Number of elements in a tensor"
   ]
  },
  {
   "cell_type": "code",
   "execution_count": 24,
   "metadata": {
    "execution": {
     "iopub.execute_input": "2023-10-30T01:07:34.031009Z",
     "iopub.status.busy": "2023-10-30T01:07:34.030543Z",
     "iopub.status.idle": "2023-10-30T01:07:34.039237Z",
     "shell.execute_reply": "2023-10-30T01:07:34.038361Z",
     "shell.execute_reply.started": "2023-10-30T01:07:34.030979Z"
    }
   },
   "outputs": [
    {
     "data": {
      "text/plain": [
       "<tf.Tensor: shape=(2, 3, 4, 5), dtype=float32, numpy=\n",
       "array([[[[0., 0., 0., 0., 0.],\n",
       "         [0., 0., 0., 0., 0.],\n",
       "         [0., 0., 0., 0., 0.],\n",
       "         [0., 0., 0., 0., 0.]],\n",
       "\n",
       "        [[0., 0., 0., 0., 0.],\n",
       "         [0., 0., 0., 0., 0.],\n",
       "         [0., 0., 0., 0., 0.],\n",
       "         [0., 0., 0., 0., 0.]],\n",
       "\n",
       "        [[0., 0., 0., 0., 0.],\n",
       "         [0., 0., 0., 0., 0.],\n",
       "         [0., 0., 0., 0., 0.],\n",
       "         [0., 0., 0., 0., 0.]]],\n",
       "\n",
       "\n",
       "       [[[0., 0., 0., 0., 0.],\n",
       "         [0., 0., 0., 0., 0.],\n",
       "         [0., 0., 0., 0., 0.],\n",
       "         [0., 0., 0., 0., 0.]],\n",
       "\n",
       "        [[0., 0., 0., 0., 0.],\n",
       "         [0., 0., 0., 0., 0.],\n",
       "         [0., 0., 0., 0., 0.],\n",
       "         [0., 0., 0., 0., 0.]],\n",
       "\n",
       "        [[0., 0., 0., 0., 0.],\n",
       "         [0., 0., 0., 0., 0.],\n",
       "         [0., 0., 0., 0., 0.],\n",
       "         [0., 0., 0., 0., 0.]]]], dtype=float32)>"
      ]
     },
     "execution_count": 24,
     "metadata": {},
     "output_type": "execute_result"
    }
   ],
   "source": [
    "# Create a rank 4 tensor\n",
    "rank_4_tensor = tf.zeros(shape=(2, 3, 4, 5))\n",
    "rank_4_tensor"
   ]
  },
  {
   "cell_type": "code",
   "execution_count": 25,
   "metadata": {
    "execution": {
     "iopub.execute_input": "2023-10-30T01:07:34.041121Z",
     "iopub.status.busy": "2023-10-30T01:07:34.040482Z",
     "iopub.status.idle": "2023-10-30T01:07:34.061825Z",
     "shell.execute_reply": "2023-10-30T01:07:34.060616Z",
     "shell.execute_reply.started": "2023-10-30T01:07:34.041083Z"
    }
   },
   "outputs": [
    {
     "data": {
      "text/plain": [
       "<tf.Tensor: shape=(4, 5), dtype=float32, numpy=\n",
       "array([[0., 0., 0., 0., 0.],\n",
       "       [0., 0., 0., 0., 0.],\n",
       "       [0., 0., 0., 0., 0.],\n",
       "       [0., 0., 0., 0., 0.]], dtype=float32)>"
      ]
     },
     "execution_count": 25,
     "metadata": {},
     "output_type": "execute_result"
    }
   ],
   "source": [
    "rank_4_tensor[0][1]"
   ]
  },
  {
   "cell_type": "code",
   "execution_count": 26,
   "metadata": {
    "execution": {
     "iopub.execute_input": "2023-10-30T01:07:34.063892Z",
     "iopub.status.busy": "2023-10-30T01:07:34.063047Z",
     "iopub.status.idle": "2023-10-30T01:07:34.072845Z",
     "shell.execute_reply": "2023-10-30T01:07:34.072113Z",
     "shell.execute_reply.started": "2023-10-30T01:07:34.063852Z"
    }
   },
   "outputs": [
    {
     "data": {
      "text/plain": [
       "(TensorShape([2, 3, 4, 5]),\n",
       " <tf.Tensor: shape=(), dtype=int32, numpy=4>,\n",
       " <tf.Tensor: shape=(), dtype=int32, numpy=120>)"
      ]
     },
     "execution_count": 26,
     "metadata": {},
     "output_type": "execute_result"
    }
   ],
   "source": [
    "rank_4_tensor.shape, tf.rank(rank_4_tensor), tf.size(rank_4_tensor)"
   ]
  },
  {
   "cell_type": "code",
   "execution_count": 27,
   "metadata": {
    "execution": {
     "iopub.execute_input": "2023-10-30T01:07:34.074740Z",
     "iopub.status.busy": "2023-10-30T01:07:34.073901Z",
     "iopub.status.idle": "2023-10-30T01:07:34.086843Z",
     "shell.execute_reply": "2023-10-30T01:07:34.085753Z",
     "shell.execute_reply.started": "2023-10-30T01:07:34.074710Z"
    }
   },
   "outputs": [
    {
     "data": {
      "text/plain": [
       "tf.float32"
      ]
     },
     "execution_count": 27,
     "metadata": {},
     "output_type": "execute_result"
    }
   ],
   "source": [
    "rank_4_tensor.dtype"
   ]
  },
  {
   "cell_type": "code",
   "execution_count": 28,
   "metadata": {
    "execution": {
     "iopub.execute_input": "2023-10-30T01:07:34.094200Z",
     "iopub.status.busy": "2023-10-30T01:07:34.093839Z",
     "iopub.status.idle": "2023-10-30T01:07:34.104329Z",
     "shell.execute_reply": "2023-10-30T01:07:34.103238Z",
     "shell.execute_reply.started": "2023-10-30T01:07:34.094170Z"
    }
   },
   "outputs": [
    {
     "name": "stdout",
     "output_type": "stream",
     "text": [
      "Shape is: [2 3 4 5]\n",
      "Rank is: 4\n",
      "Size is: 120\n"
     ]
    }
   ],
   "source": [
    "# Convert to numpy with .numpy()\n",
    "print(\"Shape is:\", tf.shape(rank_4_tensor).numpy())\n",
    "print(\"Rank is:\", tf.rank(rank_4_tensor).numpy())\n",
    "print(\"Size is:\", tf.size(rank_4_tensor).numpy())"
   ]
  },
  {
   "cell_type": "markdown",
   "metadata": {},
   "source": [
    "[tf.newaxis](https://www.tensorflow.org/api_docs/python/tf/Tensor#some_useful_examples)"
   ]
  },
  {
   "cell_type": "code",
   "execution_count": 29,
   "metadata": {
    "execution": {
     "iopub.execute_input": "2023-10-30T01:07:34.106172Z",
     "iopub.status.busy": "2023-10-30T01:07:34.105653Z",
     "iopub.status.idle": "2023-10-30T01:07:34.113469Z",
     "shell.execute_reply": "2023-10-30T01:07:34.112722Z",
     "shell.execute_reply.started": "2023-10-30T01:07:34.106142Z"
    }
   },
   "outputs": [],
   "source": [
    "# Add extra dimension with tf.newaxis\n",
    "rank_4_tensor = rank_4_tensor[..., tf.newaxis]\n",
    "# rank_4_tensor"
   ]
  },
  {
   "cell_type": "markdown",
   "metadata": {},
   "source": [
    "Alternative to tf.newaxis\n",
    "- [tf.expand_dims](https://www.tensorflow.org/api_docs/python/tf/expand_dims)"
   ]
  },
  {
   "cell_type": "code",
   "execution_count": 30,
   "metadata": {
    "execution": {
     "iopub.execute_input": "2023-10-30T01:07:34.115346Z",
     "iopub.status.busy": "2023-10-30T01:07:34.114824Z",
     "iopub.status.idle": "2023-10-30T01:07:34.126607Z",
     "shell.execute_reply": "2023-10-30T01:07:34.125464Z",
     "shell.execute_reply.started": "2023-10-30T01:07:34.115317Z"
    }
   },
   "outputs": [
    {
     "data": {
      "text/plain": [
       "TensorShape([2, 3, 4, 5, 1, 1])"
      ]
     },
     "execution_count": 30,
     "metadata": {},
     "output_type": "execute_result"
    }
   ],
   "source": [
    "rank_4_tensor = tf.expand_dims(rank_4_tensor, axis=-1)  # -1 means expand final axis. 0 would expand 0-axis, etc\n",
    "# returns a new tensor, not inplace\n",
    "rank_4_tensor.shape"
   ]
  },
  {
   "cell_type": "markdown",
   "metadata": {},
   "source": [
    "# Manipulating tensors\n",
    "\n",
    "**basic operations**\n",
    "+, -, *, /"
   ]
  },
  {
   "cell_type": "code",
   "execution_count": 31,
   "metadata": {
    "execution": {
     "iopub.execute_input": "2023-10-30T01:07:34.128175Z",
     "iopub.status.busy": "2023-10-30T01:07:34.127830Z",
     "iopub.status.idle": "2023-10-30T01:07:34.139403Z",
     "shell.execute_reply": "2023-10-30T01:07:34.138194Z",
     "shell.execute_reply.started": "2023-10-30T01:07:34.128148Z"
    }
   },
   "outputs": [
    {
     "data": {
      "text/plain": [
       "<tf.Tensor: shape=(2, 2), dtype=int32, numpy=\n",
       "array([[20, 17],\n",
       "       [13, 14]], dtype=int32)>"
      ]
     },
     "execution_count": 31,
     "metadata": {},
     "output_type": "execute_result"
    }
   ],
   "source": [
    "tensor = tf.constant([[10, 7], \n",
    "                      [3, 4]])\n",
    "tensor + 10  # returns new tensor, original is unchanged"
   ]
  },
  {
   "cell_type": "code",
   "execution_count": 32,
   "metadata": {
    "execution": {
     "iopub.execute_input": "2023-10-30T01:07:34.141432Z",
     "iopub.status.busy": "2023-10-30T01:07:34.141117Z",
     "iopub.status.idle": "2023-10-30T01:07:34.152347Z",
     "shell.execute_reply": "2023-10-30T01:07:34.151193Z",
     "shell.execute_reply.started": "2023-10-30T01:07:34.141407Z"
    }
   },
   "outputs": [
    {
     "data": {
      "text/plain": [
       "<tf.Tensor: shape=(2, 2), dtype=int32, numpy=\n",
       "array([[100,  70],\n",
       "       [ 30,  40]], dtype=int32)>"
      ]
     },
     "execution_count": 32,
     "metadata": {},
     "output_type": "execute_result"
    }
   ],
   "source": [
    "tensor * 10"
   ]
  },
  {
   "cell_type": "code",
   "execution_count": 33,
   "metadata": {
    "execution": {
     "iopub.execute_input": "2023-10-30T01:07:34.154750Z",
     "iopub.status.busy": "2023-10-30T01:07:34.153835Z",
     "iopub.status.idle": "2023-10-30T01:07:34.166537Z",
     "shell.execute_reply": "2023-10-30T01:07:34.165389Z",
     "shell.execute_reply.started": "2023-10-30T01:07:34.154718Z"
    }
   },
   "outputs": [
    {
     "data": {
      "text/plain": [
       "<tf.Tensor: shape=(2, 2), dtype=int32, numpy=\n",
       "array([[9, 6],\n",
       "       [2, 3]], dtype=int32)>"
      ]
     },
     "execution_count": 33,
     "metadata": {},
     "output_type": "execute_result"
    }
   ],
   "source": [
    "tensor - 1"
   ]
  },
  {
   "cell_type": "code",
   "execution_count": 34,
   "metadata": {
    "execution": {
     "iopub.execute_input": "2023-10-30T01:07:34.168159Z",
     "iopub.status.busy": "2023-10-30T01:07:34.167759Z",
     "iopub.status.idle": "2023-10-30T01:07:34.183628Z",
     "shell.execute_reply": "2023-10-30T01:07:34.182337Z",
     "shell.execute_reply.started": "2023-10-30T01:07:34.168129Z"
    }
   },
   "outputs": [
    {
     "data": {
      "text/plain": [
       "<tf.Tensor: shape=(2, 2), dtype=float64, numpy=\n",
       "array([[5. , 3.5],\n",
       "       [1.5, 2. ]])>"
      ]
     },
     "execution_count": 34,
     "metadata": {},
     "output_type": "execute_result"
    }
   ],
   "source": [
    "tensor / 2"
   ]
  },
  {
   "cell_type": "markdown",
   "metadata": {},
   "source": [
    "Built in functions:\n",
    "- [tf.math](https://www.tensorflow.org/api_docs/python/tf/math) module\n",
    "\n",
    "Faster with GPU"
   ]
  },
  {
   "cell_type": "code",
   "execution_count": 35,
   "metadata": {
    "execution": {
     "iopub.execute_input": "2023-10-30T01:07:34.185959Z",
     "iopub.status.busy": "2023-10-30T01:07:34.185041Z",
     "iopub.status.idle": "2023-10-30T01:07:34.192731Z",
     "shell.execute_reply": "2023-10-30T01:07:34.191672Z",
     "shell.execute_reply.started": "2023-10-30T01:07:34.185929Z"
    }
   },
   "outputs": [
    {
     "data": {
      "text/plain": [
       "<tf.Tensor: shape=(2, 2), dtype=int32, numpy=\n",
       "array([[100,  70],\n",
       "       [ 30,  40]], dtype=int32)>"
      ]
     },
     "execution_count": 35,
     "metadata": {},
     "output_type": "execute_result"
    }
   ],
   "source": [
    "# Can use tensorflow builtin functions too\n",
    "tf.multiply(tensor, 10)"
   ]
  },
  {
   "cell_type": "markdown",
   "metadata": {},
   "source": [
    "Matrix multiplication\n",
    "- dot product\n",
    "- [tf.linalg.matmul](https://www.tensorflow.org/api_docs/python/tf/linalg/matmul)"
   ]
  },
  {
   "cell_type": "code",
   "execution_count": 36,
   "metadata": {
    "execution": {
     "iopub.execute_input": "2023-10-30T01:07:34.194248Z",
     "iopub.status.busy": "2023-10-30T01:07:34.193843Z",
     "iopub.status.idle": "2023-10-30T01:07:34.216649Z",
     "shell.execute_reply": "2023-10-30T01:07:34.215917Z",
     "shell.execute_reply.started": "2023-10-30T01:07:34.194209Z"
    }
   },
   "outputs": [
    {
     "data": {
      "text/plain": [
       "<tf.Tensor: shape=(2, 2), dtype=int32, numpy=\n",
       "array([[121,  98],\n",
       "       [ 42,  37]], dtype=int32)>"
      ]
     },
     "execution_count": 36,
     "metadata": {},
     "output_type": "execute_result"
    }
   ],
   "source": [
    "tf.matmul(tensor, tensor)"
   ]
  },
  {
   "cell_type": "code",
   "execution_count": 37,
   "metadata": {
    "execution": {
     "iopub.execute_input": "2023-10-30T01:07:34.218530Z",
     "iopub.status.busy": "2023-10-30T01:07:34.218007Z",
     "iopub.status.idle": "2023-10-30T01:07:34.226005Z",
     "shell.execute_reply": "2023-10-30T01:07:34.225032Z",
     "shell.execute_reply.started": "2023-10-30T01:07:34.218500Z"
    }
   },
   "outputs": [
    {
     "data": {
      "text/plain": [
       "<tf.Tensor: shape=(2, 2), dtype=int32, numpy=\n",
       "array([[100,  49],\n",
       "       [  9,  16]], dtype=int32)>"
      ]
     },
     "execution_count": 37,
     "metadata": {},
     "output_type": "execute_result"
    }
   ],
   "source": [
    "tensor * tensor"
   ]
  },
  {
   "cell_type": "code",
   "execution_count": 38,
   "metadata": {
    "execution": {
     "iopub.execute_input": "2023-10-30T01:07:34.227167Z",
     "iopub.status.busy": "2023-10-30T01:07:34.226887Z",
     "iopub.status.idle": "2023-10-30T01:07:34.238233Z",
     "shell.execute_reply": "2023-10-30T01:07:34.237300Z",
     "shell.execute_reply.started": "2023-10-30T01:07:34.227143Z"
    }
   },
   "outputs": [
    {
     "data": {
      "text/plain": [
       "<tf.Tensor: shape=(2, 2), dtype=int32, numpy=\n",
       "array([[121,  98],\n",
       "       [ 42,  37]], dtype=int32)>"
      ]
     },
     "execution_count": 38,
     "metadata": {},
     "output_type": "execute_result"
    }
   ],
   "source": [
    "# Matrix multiplication with Python operator \"@\"\n",
    "tensor @ tensor"
   ]
  },
  {
   "cell_type": "code",
   "execution_count": 39,
   "metadata": {
    "execution": {
     "iopub.execute_input": "2023-10-30T01:07:34.239565Z",
     "iopub.status.busy": "2023-10-30T01:07:34.239213Z",
     "iopub.status.idle": "2023-10-30T01:07:34.247822Z",
     "shell.execute_reply": "2023-10-30T01:07:34.246834Z",
     "shell.execute_reply.started": "2023-10-30T01:07:34.239537Z"
    }
   },
   "outputs": [],
   "source": [
    "# matrix multiplication of different shapes\n",
    "X = tf.constant([[1, 2],\n",
    "                [3, 4],\n",
    "                [5, 6]])\n",
    "\n",
    "Y = tf.constant([[5, 6],\n",
    "                [7, 8],\n",
    "                [5, 6]])\n",
    "\n",
    "# X @ Y incompatible shape\n",
    "# need to fulfil rules of matrix multiplication"
   ]
  },
  {
   "cell_type": "markdown",
   "metadata": {},
   "source": [
    "Rules of matrix multiplication:\n",
    "1. The inner dimensions must match\n",
    "2. The resulting matrix has the shape of the outer dimensions\n",
    "\n",
    "www.matrixmultiplication.xyz"
   ]
  },
  {
   "cell_type": "code",
   "execution_count": 40,
   "metadata": {
    "execution": {
     "iopub.execute_input": "2023-10-30T01:07:34.249126Z",
     "iopub.status.busy": "2023-10-30T01:07:34.248763Z",
     "iopub.status.idle": "2023-10-30T01:07:34.263590Z",
     "shell.execute_reply": "2023-10-30T01:07:34.262380Z",
     "shell.execute_reply.started": "2023-10-30T01:07:34.249099Z"
    }
   },
   "outputs": [
    {
     "data": {
      "text/plain": [
       "<tf.Tensor: shape=(3, 3), dtype=int32, numpy=\n",
       "array([[21, 16, 19],\n",
       "       [47, 38, 45],\n",
       "       [73, 60, 71]], dtype=int32)>"
      ]
     },
     "execution_count": 40,
     "metadata": {},
     "output_type": "execute_result"
    }
   ],
   "source": [
    "# reshape with tf.reshape\n",
    "\n",
    "X @ tf.reshape(Y, shape=(2, 3))"
   ]
  },
  {
   "cell_type": "code",
   "execution_count": 41,
   "metadata": {
    "execution": {
     "iopub.execute_input": "2023-10-30T01:07:34.265123Z",
     "iopub.status.busy": "2023-10-30T01:07:34.264815Z",
     "iopub.status.idle": "2023-10-30T01:07:34.276219Z",
     "shell.execute_reply": "2023-10-30T01:07:34.275280Z",
     "shell.execute_reply.started": "2023-10-30T01:07:34.265097Z"
    }
   },
   "outputs": [
    {
     "data": {
      "text/plain": [
       "<tf.Tensor: shape=(2, 2), dtype=int32, numpy=\n",
       "array([[ 34,  40],\n",
       "       [ 85, 100]], dtype=int32)>"
      ]
     },
     "execution_count": 41,
     "metadata": {},
     "output_type": "execute_result"
    }
   ],
   "source": [
    "# Or change shape of X instead of y\n",
    "tf.matmul(tf.reshape(X, shape=(2, 3)), Y)"
   ]
  },
  {
   "cell_type": "markdown",
   "metadata": {},
   "source": [
    "- [tf.reshape](https://www.tensorflow.org/api_docs/python/tf/reshape)\n",
    "- [tf.transpose](https://www.tensorflow.org/api_docs/python/tf/transpose) transposes a tensor; turns all rows into columns and columns into rows"
   ]
  },
  {
   "cell_type": "code",
   "execution_count": 42,
   "metadata": {
    "execution": {
     "iopub.execute_input": "2023-10-30T01:07:34.278031Z",
     "iopub.status.busy": "2023-10-30T01:07:34.277583Z",
     "iopub.status.idle": "2023-10-30T01:07:34.298956Z",
     "shell.execute_reply": "2023-10-30T01:07:34.297874Z",
     "shell.execute_reply.started": "2023-10-30T01:07:34.277995Z"
    }
   },
   "outputs": [
    {
     "data": {
      "text/plain": [
       "<tf.Tensor: shape=(2, 2), dtype=int32, numpy=\n",
       "array([[51, 60],\n",
       "       [68, 80]], dtype=int32)>"
      ]
     },
     "execution_count": 42,
     "metadata": {},
     "output_type": "execute_result"
    }
   ],
   "source": [
    "# Can do the same with transpose\n",
    "tf.transpose(X) @ Y"
   ]
  },
  {
   "cell_type": "code",
   "execution_count": 43,
   "metadata": {
    "execution": {
     "iopub.execute_input": "2023-10-30T01:07:34.302347Z",
     "iopub.status.busy": "2023-10-30T01:07:34.302024Z",
     "iopub.status.idle": "2023-10-30T01:07:34.309948Z",
     "shell.execute_reply": "2023-10-30T01:07:34.309081Z",
     "shell.execute_reply.started": "2023-10-30T01:07:34.302321Z"
    }
   },
   "outputs": [
    {
     "data": {
      "text/plain": [
       "(<tf.Tensor: shape=(3, 2), dtype=int32, numpy=\n",
       " array([[1, 2],\n",
       "        [3, 4],\n",
       "        [5, 6]], dtype=int32)>,\n",
       " <tf.Tensor: shape=(2, 3), dtype=int32, numpy=\n",
       " array([[1, 3, 5],\n",
       "        [2, 4, 6]], dtype=int32)>,\n",
       " <tf.Tensor: shape=(2, 3), dtype=int32, numpy=\n",
       " array([[1, 2, 3],\n",
       "        [4, 5, 6]], dtype=int32)>)"
      ]
     },
     "execution_count": 43,
     "metadata": {},
     "output_type": "execute_result"
    }
   ],
   "source": [
    "# reshape keeps element order, while transpose keeps (flips) axes?\n",
    "X, tf.transpose(X), tf.reshape(X, shape=(2, 3))"
   ]
  },
  {
   "cell_type": "markdown",
   "metadata": {},
   "source": [
    "# The dot product. Matrix multiplication is also reffered to as the dot product.\n",
    "# You can perform matrix multiplication using:\n",
    "- tf.matmul()\n",
    "- [tf.tensordot()](https://www.tensorflow.org/api_docs/python/tf/tensordot)\n",
    "\n"
   ]
  },
  {
   "cell_type": "code",
   "execution_count": 44,
   "metadata": {
    "execution": {
     "iopub.execute_input": "2023-10-30T01:07:34.311260Z",
     "iopub.status.busy": "2023-10-30T01:07:34.310960Z",
     "iopub.status.idle": "2023-10-30T01:07:34.321178Z",
     "shell.execute_reply": "2023-10-30T01:07:34.320368Z",
     "shell.execute_reply.started": "2023-10-30T01:07:34.311234Z"
    }
   },
   "outputs": [
    {
     "data": {
      "text/plain": [
       "(<tf.Tensor: shape=(3, 2), dtype=int32, numpy=\n",
       " array([[1, 2],\n",
       "        [3, 4],\n",
       "        [5, 6]], dtype=int32)>,\n",
       " <tf.Tensor: shape=(3, 2), dtype=int32, numpy=\n",
       " array([[5, 6],\n",
       "        [7, 8],\n",
       "        [5, 6]], dtype=int32)>)"
      ]
     },
     "execution_count": 44,
     "metadata": {},
     "output_type": "execute_result"
    }
   ],
   "source": [
    "X, Y"
   ]
  },
  {
   "cell_type": "code",
   "execution_count": 45,
   "metadata": {
    "execution": {
     "iopub.execute_input": "2023-10-30T01:07:34.323075Z",
     "iopub.status.busy": "2023-10-30T01:07:34.322426Z",
     "iopub.status.idle": "2023-10-30T01:07:34.337193Z",
     "shell.execute_reply": "2023-10-30T01:07:34.336177Z",
     "shell.execute_reply.started": "2023-10-30T01:07:34.323044Z"
    }
   },
   "outputs": [
    {
     "data": {
      "text/plain": [
       "<tf.Tensor: shape=(2, 2), dtype=int32, numpy=\n",
       "array([[51, 60],\n",
       "       [68, 80]], dtype=int32)>"
      ]
     },
     "execution_count": 45,
     "metadata": {},
     "output_type": "execute_result"
    }
   ],
   "source": [
    "# Peform dot product on X and Y, required X or Y to be transposed or reshaped\n",
    "tf.tensordot(tf.transpose(X), Y, axes=1)"
   ]
  },
  {
   "cell_type": "markdown",
   "metadata": {},
   "source": [
    "## I don't feel like taking more notes\n",
    "## Here's more tf functions to look up\n",
    "- generally when performing matrix multiplication on two tensors and one of the axes doesn't line up, use transpose\n",
    "- generally use tf.matmul()\n",
    "- tf.cast() to change dtype, ie reduce precision. Use dtype= param\n",
    "\n",
    "## Aggregating tensors = condensing them from multiple values down to a smaller amount of values\n",
    "\n",
    "- tf.abs() absolute\n",
    "- tf.reduce_min() minimum\n",
    "- tf.reduce_max()\n",
    "- tf.reduce_mean()\n",
    "- tf.reduce_sum()\n",
    "\n",
    "variance\n",
    "- import tensorflow_probability as tfp\n",
    "- tfp.stats.variance()\n",
    "\n",
    "or\n",
    "- tf.math.reduce_variance()\n",
    "\n",
    "std, needs float32 or float64 dtype\n",
    "- tf.math.reduce_std()\n",
    "\n",
    "positional maximum or minimum\n",
    "- tf.argmax() index\n",
    "- tf.reduce_max() value\n",
    "- tf.argmin() index\n",
    "- tf.reduce_min() value"
   ]
  },
  {
   "cell_type": "code",
   "execution_count": 46,
   "metadata": {
    "execution": {
     "iopub.execute_input": "2023-10-30T01:07:34.339052Z",
     "iopub.status.busy": "2023-10-30T01:07:34.338609Z",
     "iopub.status.idle": "2023-10-30T01:07:34.354842Z",
     "shell.execute_reply": "2023-10-30T01:07:34.353393Z",
     "shell.execute_reply.started": "2023-10-30T01:07:34.339016Z"
    }
   },
   "outputs": [
    {
     "data": {
      "text/plain": [
       "<tf.Tensor: shape=(), dtype=int32, numpy=1>"
      ]
     },
     "execution_count": 46,
     "metadata": {},
     "output_type": "execute_result"
    }
   ],
   "source": [
    "tf.reduce_min(tf.constant([1, 2, 3]))"
   ]
  },
  {
   "cell_type": "markdown",
   "metadata": {},
   "source": [
    "# Squeezing a tensor\n",
    "removing all single dimensions\n",
    "\n",
    "take shape=(1, 1, 1, 1, 50) -> shape(50,)\n",
    "- tf.squeeze()"
   ]
  },
  {
   "cell_type": "code",
   "execution_count": 47,
   "metadata": {
    "execution": {
     "iopub.execute_input": "2023-10-30T01:07:34.356671Z",
     "iopub.status.busy": "2023-10-30T01:07:34.356366Z",
     "iopub.status.idle": "2023-10-30T01:07:34.368327Z",
     "shell.execute_reply": "2023-10-30T01:07:34.367030Z",
     "shell.execute_reply.started": "2023-10-30T01:07:34.356645Z"
    }
   },
   "outputs": [
    {
     "data": {
      "text/plain": [
       "<tf.Tensor: shape=(50,), dtype=float32, numpy=\n",
       "array([0.6645621 , 0.44100678, 0.3528825 , 0.46448255, 0.03366041,\n",
       "       0.68467236, 0.74011743, 0.8724445 , 0.22632635, 0.22319686,\n",
       "       0.3103881 , 0.7223358 , 0.13318717, 0.5480639 , 0.5746088 ,\n",
       "       0.8996835 , 0.00946367, 0.5212307 , 0.6345445 , 0.1993283 ,\n",
       "       0.72942245, 0.54583454, 0.10756552, 0.6767061 , 0.6602763 ,\n",
       "       0.33695042, 0.60141766, 0.21062577, 0.8527372 , 0.44062173,\n",
       "       0.9485276 , 0.23752594, 0.81179297, 0.5263394 , 0.494308  ,\n",
       "       0.21612847, 0.8457197 , 0.8718841 , 0.3083862 , 0.6868038 ,\n",
       "       0.23764038, 0.7817228 , 0.9671384 , 0.06870162, 0.79873943,\n",
       "       0.66028714, 0.5871513 , 0.16461694, 0.7381023 , 0.32054043],\n",
       "      dtype=float32)>"
      ]
     },
     "execution_count": 47,
     "metadata": {},
     "output_type": "execute_result"
    }
   ],
   "source": [
    "tf.squeeze(tf.random.uniform(shape=(1, 1, 1, 1, 50)))"
   ]
  },
  {
   "cell_type": "markdown",
   "metadata": {},
   "source": [
    "# One hot encoding tensors\n",
    "\n",
    "One hot encoding is a method used to represent categorical data as binary vectors. For each unique category value, it creates a new binary column, where the presence of the category is marked by a \"1\" and its absence by a \"0\". For example, for a color column with values \"red,\" \"green,\" and \"blue,\" one hot encoding would create three separate columns, each representing one color with \"1\"s and \"0\"s."
   ]
  },
  {
   "cell_type": "code",
   "execution_count": 48,
   "metadata": {
    "execution": {
     "iopub.execute_input": "2023-10-30T01:07:34.370414Z",
     "iopub.status.busy": "2023-10-30T01:07:34.369532Z",
     "iopub.status.idle": "2023-10-30T01:07:34.383267Z",
     "shell.execute_reply": "2023-10-30T01:07:34.382172Z",
     "shell.execute_reply.started": "2023-10-30T01:07:34.370384Z"
    }
   },
   "outputs": [
    {
     "data": {
      "text/plain": [
       "<tf.Tensor: shape=(4, 4), dtype=float32, numpy=\n",
       "array([[1., 0., 0., 0.],\n",
       "       [0., 1., 0., 0.],\n",
       "       [0., 0., 1., 0.],\n",
       "       [0., 0., 0., 1.]], dtype=float32)>"
      ]
     },
     "execution_count": 48,
     "metadata": {},
     "output_type": "execute_result"
    }
   ],
   "source": [
    "# Create a list of indices\n",
    "some_list = [0, 1, 2, 3]  # could represent colors, like red, green blue, purple\n",
    "\n",
    "# One hot encode our list of indices\n",
    "# use tf.one_hot()\n",
    "tf.one_hot(some_list, depth=len(some_list))"
   ]
  },
  {
   "cell_type": "code",
   "execution_count": 49,
   "metadata": {
    "execution": {
     "iopub.execute_input": "2023-10-30T01:07:34.385166Z",
     "iopub.status.busy": "2023-10-30T01:07:34.384664Z",
     "iopub.status.idle": "2023-10-30T01:07:34.399308Z",
     "shell.execute_reply": "2023-10-30T01:07:34.398125Z",
     "shell.execute_reply.started": "2023-10-30T01:07:34.385137Z"
    }
   },
   "outputs": [
    {
     "data": {
      "text/plain": [
       "<tf.Tensor: shape=(4, 4), dtype=string, numpy=\n",
       "array([[b\"it's on\", b'potato', b'potato', b'potato'],\n",
       "       [b'potato', b\"it's on\", b'potato', b'potato'],\n",
       "       [b'potato', b'potato', b\"it's on\", b'potato'],\n",
       "       [b'potato', b'potato', b'potato', b\"it's on\"]], dtype=object)>"
      ]
     },
     "execution_count": 49,
     "metadata": {},
     "output_type": "execute_result"
    }
   ],
   "source": [
    "# Specify custom values\n",
    "# generally 1 and 0 are good though\n",
    "tf.one_hot(some_list, depth=4, on_value=\"it's on\", off_value=\"potato\")"
   ]
  },
  {
   "cell_type": "markdown",
   "metadata": {},
   "source": [
    "# More tensor math operations\n",
    "- tf.square()\n",
    "- tf.sqrt() must be a float type (use tf.cast())\n",
    "- tf.math.log()"
   ]
  },
  {
   "cell_type": "code",
   "execution_count": 50,
   "metadata": {
    "execution": {
     "iopub.execute_input": "2023-10-30T01:07:34.401512Z",
     "iopub.status.busy": "2023-10-30T01:07:34.400682Z",
     "iopub.status.idle": "2023-10-30T01:07:34.417291Z",
     "shell.execute_reply": "2023-10-30T01:07:34.416290Z",
     "shell.execute_reply.started": "2023-10-30T01:07:34.401464Z"
    }
   },
   "outputs": [
    {
     "data": {
      "text/plain": [
       "<tf.Tensor: shape=(3, 2), dtype=float32, numpy=\n",
       "array([[-2.4742684 ,         nan],\n",
       "       [-0.9725356 ,         nan],\n",
       "       [        nan, -0.48155943]], dtype=float32)>"
      ]
     },
     "execution_count": 50,
     "metadata": {},
     "output_type": "execute_result"
    }
   ],
   "source": [
    "tf.math.log(tf.random.normal(shape=(3, 2), dtype=tf.float32))"
   ]
  },
  {
   "cell_type": "markdown",
   "metadata": {},
   "source": [
    "# Tensorflow + NumPy\n",
    "\n",
    "- works with numpy arrays\n",
    "- np.array() can go into tf.constant(), and vice versa\n",
    "- or use tf.Tensor.numpy()\n",
    "\n",
    "default types - dtype\n",
    "- creating a tensor from np array floats is tf.float64\n",
    "- creating a tensor from a list of floats is tf.float32\n",
    "\n",
    "**tensorflow tensors run faster on GPUs than np arrays**"
   ]
  },
  {
   "cell_type": "markdown",
   "metadata": {},
   "source": [
    "## How to GPU\n",
    "- tf.test.is_gpu_available()\n",
    "- tf.config.list_physical_devices()"
   ]
  },
  {
   "cell_type": "code",
   "execution_count": 51,
   "metadata": {
    "execution": {
     "iopub.execute_input": "2023-10-30T01:07:34.418868Z",
     "iopub.status.busy": "2023-10-30T01:07:34.418538Z",
     "iopub.status.idle": "2023-10-30T01:07:34.425887Z",
     "shell.execute_reply": "2023-10-30T01:07:34.424825Z",
     "shell.execute_reply.started": "2023-10-30T01:07:34.418841Z"
    }
   },
   "outputs": [
    {
     "data": {
      "text/plain": [
       "[]"
      ]
     },
     "execution_count": 51,
     "metadata": {},
     "output_type": "execute_result"
    }
   ],
   "source": [
    "tf.config.list_physical_devices()\n",
    "tf.config.list_physical_devices(\"GPU\")  # empty list, unless GPU accelerator is on"
   ]
  },
  {
   "cell_type": "code",
   "execution_count": 53,
   "metadata": {
    "execution": {
     "iopub.execute_input": "2023-10-30T01:09:11.987398Z",
     "iopub.status.busy": "2023-10-30T01:09:11.987003Z",
     "iopub.status.idle": "2023-10-30T01:09:13.091607Z",
     "shell.execute_reply": "2023-10-30T01:09:13.090277Z",
     "shell.execute_reply.started": "2023-10-30T01:09:11.987367Z"
    }
   },
   "outputs": [
    {
     "name": "stdout",
     "output_type": "stream",
     "text": [
      "/bin/bash: nvidia-smi: command not found\n"
     ]
    }
   ],
   "source": [
    "# works if GPU accelerator is on\n",
    "\n",
    "!nvidia-smi"
   ]
  },
  {
   "cell_type": "code",
   "execution_count": null,
   "metadata": {},
   "outputs": [],
   "source": []
  }
 ],
 "metadata": {
  "kernelspec": {
   "display_name": "Python 3 (ipykernel)",
   "language": "python",
   "name": "python3"
  },
  "language_info": {
   "codemirror_mode": {
    "name": "ipython",
    "version": 3
   },
   "file_extension": ".py",
   "mimetype": "text/x-python",
   "name": "python",
   "nbconvert_exporter": "python",
   "pygments_lexer": "ipython3",
   "version": "3.11.5"
  }
 },
 "nbformat": 4,
 "nbformat_minor": 4
}
