{
 "cells": [
  {
   "cell_type": "code",
   "execution_count": 15,
   "id": "e4965232-de45-45d8-a16c-772d367b214b",
   "metadata": {},
   "outputs": [],
   "source": [
    "import tensorflow as tf\n",
    "import matplotlib.pyplot as plt"
   ]
  },
  {
   "attachments": {},
   "cell_type": "markdown",
   "id": "217ab8ef-ceb1-4786-90de-43c89f10486c",
   "metadata": {},
   "source": [
    "# Create the dataset (tensors) from floats\n",
    "\n",
    "Documentation:\n",
    "- [tf.random.set_seed](https://www.tensorflow.org/api_docs/python/tf/random/set_seed)\n",
    "- [tf.random.uniform](https://www.tensorflow.org/api_docs/python/tf/random/uniform)\n",
    "- [About shapes](https://www.tensorflow.org/guide/tensor#about_shapes)\n",
    "- [Adding a scalar to a tensor](https://www.tensorflow.org/api_docs/python/tf/math/add#used-in-the-notebooks)"
   ]
  },
  {
   "cell_type": "code",
   "execution_count": 55,
   "id": "52ab7f2d-bcd0-4277-8f12-9a4cb6c18f84",
   "metadata": {},
   "outputs": [
    {
     "data": {
      "text/plain": [
       "(<tf.Tensor: shape=(10, 1), dtype=float32, numpy=\n",
       " array([[-1.6739445 ],\n",
       "        [-4.6283674 ],\n",
       "        [-0.40633678],\n",
       "        [-2.7085733 ],\n",
       "        [ 9.094229  ],\n",
       "        [ 8.837292  ],\n",
       "        [ 2.2966785 ],\n",
       "        [-2.831571  ],\n",
       "        [ 1.8720484 ],\n",
       "        [-5.6897807 ]], dtype=float32)>,\n",
       " <tf.Tensor: shape=(10, 1), dtype=float32, numpy=\n",
       " array([[ 8.326056 ],\n",
       "        [ 5.3716326],\n",
       "        [ 9.593663 ],\n",
       "        [ 7.2914267],\n",
       "        [19.094229 ],\n",
       "        [18.837292 ],\n",
       "        [12.296679 ],\n",
       "        [ 7.168429 ],\n",
       "        [11.872048 ],\n",
       "        [ 4.3102193]], dtype=float32)>,\n",
       " <tf.Tensor: shape=(10, 1), dtype=float32, numpy=\n",
       " array([[ 2.7579927],\n",
       "        [-6.790426 ],\n",
       "        [-6.128938 ],\n",
       "        [-4.9439836],\n",
       "        [-3.6137486],\n",
       "        [-7.235348 ],\n",
       "        [-2.3143482],\n",
       "        [-3.394227 ],\n",
       "        [-3.4756017],\n",
       "        [-8.370638 ]], dtype=float32)>,\n",
       " <tf.Tensor: shape=(10, 1), dtype=float32, numpy=\n",
       " array([[12.757993 ],\n",
       "        [ 3.2095742],\n",
       "        [ 3.8710618],\n",
       "        [ 5.0560164],\n",
       "        [ 6.3862514],\n",
       "        [ 2.7646518],\n",
       "        [ 7.685652 ],\n",
       "        [ 6.605773 ],\n",
       "        [ 6.5243983],\n",
       "        [ 1.6293621]], dtype=float32)>)"
      ]
     },
     "execution_count": 55,
     "metadata": {},
     "output_type": "execute_result"
    }
   ],
   "source": [
    "# Set global seed\n",
    "tf.random.set_seed(42)\n",
    "\n",
    "X_train = tf.random.uniform(shape=(10, 1), minval=(-10), maxval=(10), dtype=tf.float32, seed=42)\n",
    "y_train = X_train + 10\n",
    "\n",
    "X_test = tf.random.uniform(shape=(10, 1), minval=(-10), maxval=(10), dtype=tf.float32, seed=3)\n",
    "y_test = X_test + 10\n",
    "\n",
    "# What do our datasets look like?\n",
    "X_train, y_train, X_test, y_test"
   ]
  },
  {
   "cell_type": "markdown",
   "id": "f0e442ea-e7b6-47b3-a62e-f88b053470a1",
   "metadata": {},
   "source": [
    "## Create the model\n",
    "\n",
    "Documentation (be aware of aliases):\n",
    "\n",
    "- [tf.keras.Sequential](https://www.tensorflow.org/api_docs/python/tf/keras/Sequential)\n",
    "- [tf.keras.layers.Input](https://www.tensorflow.org/api_docs/python/tf/keras/Input)\n",
    "- [tf.keras.layers.Dense](https://www.tensorflow.org/api_docs/python/tf/keras/layers/Dense)\n",
    "- [compile method](https://www.tensorflow.org/api_docs/python/tf/keras/Sequential#compile)\n",
    "- [tf.keras.losses.mae](https://www.tensorflow.org/api_docs/python/tf/keras/metrics/mean_absolute_error)\n",
    "- [tf.keras.optimizers.SGD](https://www.tensorflow.org/api_docs/python/tf/keras/optimizers/experimental/SGD)\n",
    "- [fit method](https://www.tensorflow.org/api_docs/python/tf/keras/Sequential?hl=en#fit)"
   ]
  },
  {
   "cell_type": "code",
   "execution_count": 58,
   "id": "b9fa8356-bca8-4a83-942d-af2e9be4edc8",
   "metadata": {},
   "outputs": [
    {
     "name": "stdout",
     "output_type": "stream",
     "text": [
      "Epoch 1/10\n",
      "\u001b[1m1/1\u001b[0m \u001b[32m━━━━━━━━━━━━━━━━━━━━\u001b[0m\u001b[37m\u001b[0m \u001b[1m0s\u001b[0m 250ms/step - loss: 10.6124 - mae: 10.6124\n",
      "Epoch 2/10\n",
      "\u001b[1m1/1\u001b[0m \u001b[32m━━━━━━━━━━━━━━━━━━━━\u001b[0m\u001b[37m\u001b[0m \u001b[1m0s\u001b[0m 29ms/step - loss: 10.6007 - mae: 10.6007\n",
      "Epoch 3/10\n",
      "\u001b[1m1/1\u001b[0m \u001b[32m━━━━━━━━━━━━━━━━━━━━\u001b[0m\u001b[37m\u001b[0m \u001b[1m0s\u001b[0m 21ms/step - loss: 10.5889 - mae: 10.5889\n",
      "Epoch 4/10\n",
      "\u001b[1m1/1\u001b[0m \u001b[32m━━━━━━━━━━━━━━━━━━━━\u001b[0m\u001b[37m\u001b[0m \u001b[1m0s\u001b[0m 22ms/step - loss: 10.5772 - mae: 10.5772\n",
      "Epoch 5/10\n",
      "\u001b[1m1/1\u001b[0m \u001b[32m━━━━━━━━━━━━━━━━━━━━\u001b[0m\u001b[37m\u001b[0m \u001b[1m0s\u001b[0m 21ms/step - loss: 10.5655 - mae: 10.5655\n",
      "Epoch 6/10\n",
      "\u001b[1m1/1\u001b[0m \u001b[32m━━━━━━━━━━━━━━━━━━━━\u001b[0m\u001b[37m\u001b[0m \u001b[1m0s\u001b[0m 20ms/step - loss: 10.5537 - mae: 10.5537\n",
      "Epoch 7/10\n",
      "\u001b[1m1/1\u001b[0m \u001b[32m━━━━━━━━━━━━━━━━━━━━\u001b[0m\u001b[37m\u001b[0m \u001b[1m0s\u001b[0m 20ms/step - loss: 10.5420 - mae: 10.5420\n",
      "Epoch 8/10\n",
      "\u001b[1m1/1\u001b[0m \u001b[32m━━━━━━━━━━━━━━━━━━━━\u001b[0m\u001b[37m\u001b[0m \u001b[1m0s\u001b[0m 20ms/step - loss: 10.5303 - mae: 10.5303\n",
      "Epoch 9/10\n",
      "\u001b[1m1/1\u001b[0m \u001b[32m━━━━━━━━━━━━━━━━━━━━\u001b[0m\u001b[37m\u001b[0m \u001b[1m0s\u001b[0m 22ms/step - loss: 10.5185 - mae: 10.5185\n",
      "Epoch 10/10\n",
      "\u001b[1m1/1\u001b[0m \u001b[32m━━━━━━━━━━━━━━━━━━━━\u001b[0m\u001b[37m\u001b[0m \u001b[1m0s\u001b[0m 20ms/step - loss: 10.5068 - mae: 10.5068\n"
     ]
    },
    {
     "data": {
      "text/plain": [
       "<keras.src.callbacks.history.History at 0x7fa0c84e03d0>"
      ]
     },
     "execution_count": 58,
     "metadata": {},
     "output_type": "execute_result"
    }
   ],
   "source": [
    "# 1. Create the model\n",
    "float_model = tf.keras.Sequential([\n",
    "    tf.keras.layers.Input(shape=(1,)),  # Why is it shape=(1,) and not shape=(1)?\n",
    "    tf.keras.layers.Dense(1)\n",
    "])\n",
    "\n",
    "# 2. Compile the model\n",
    "float_model.compile(\n",
    "    loss=tf.keras.losses.mae,  # What is the difference between MAE and MSE?\n",
    "    optimizer=tf.keras.optimizers.SGD(learning_rate=0.01),\n",
    "    metrics=[\"mae\"]\n",
    ")\n",
    "\n",
    "# 3. Fit the model\n",
    "float_model.fit(X_train, y_train, epochs=10)"
   ]
  },
  {
   "cell_type": "markdown",
   "id": "db90334b-7389-49b5-80ba-616ae098f19b",
   "metadata": {},
   "source": [
    "## Visualize predictions\n",
    "\n",
    "Documentation:\n",
    "\n",
    "- [predict method](https://www.tensorflow.org/api_docs/python/tf/keras/Sequential?hl=en#predict)"
   ]
  },
  {
   "cell_type": "code",
   "execution_count": 59,
   "id": "50ece9d7-80bd-489d-b4cc-921c17915a05",
   "metadata": {},
   "outputs": [],
   "source": [
    "def show_model_predictions(model):\n",
    "    plt.figure(figsize=(10, 7))\n",
    "    # Plot training data in blue\n",
    "    plt.scatter(X_train, y_train, c=\"b\", label=\"Training data\")\n",
    "    # Plot training data in green\n",
    "    plt.scatter(X_test, y_test, c=\"g\", label=\"Testing data\")\n",
    "    # Plot predictions in red\n",
    "    plt.scatter(X_test, model.predict(X_test), c=\"r\", label=\"Predictions\")\n",
    "    # Show a legend\n",
    "    plt.legend()"
   ]
  },
  {
   "cell_type": "code",
   "execution_count": 60,
   "id": "b345a793-f185-4025-bb97-d3acbeb5b258",
   "metadata": {},
   "outputs": [
    {
     "name": "stdout",
     "output_type": "stream",
     "text": [
      "\u001b[1m1/1\u001b[0m \u001b[32m━━━━━━━━━━━━━━━━━━━━\u001b[0m\u001b[37m\u001b[0m \u001b[1m0s\u001b[0m 60ms/step\n"
     ]
    },
    {
     "data": {
      "image/png": "[encoded data removed]",
      "text/plain": [
       "<Figure size 1000x700 with 1 Axes>"
      ]
     },
     "metadata": {},
     "output_type": "display_data"
    }
   ],
   "source": [
    "show_model_predictions(float_model)"
   ]
  },
  {
   "cell_type": "markdown",
   "id": "6f8045b9-bf41-4eae-b271-d9106be74159",
   "metadata": {},
   "source": [
    "## Experiment, experiment, experiment\n",
    "\n",
    "Start simple, and make it more complex. Change one thing at a time. Type out all of the code!\n",
    "\n",
    "- Add a new Dense layer to the model with more neurons\n",
    "- Change the optimizer\n",
    "- Increase or decrease the learning rate\n",
    "- Train for more epochs\n",
    "\n",
    "Run `show_model_predictions()` after each fit to test!"
   ]
  },
  {
   "cell_type": "code",
   "execution_count": 61,
   "id": "dc16572d-0e44-46f8-ab3c-eec960a7f038",
   "metadata": {},
   "outputs": [],
   "source": [
    "# Start here:\n",
    "\n",
    "# 1. Create the model\n",
    "# float_model_02 = \n",
    "\n",
    "# 2. Compile the model\n",
    "\n",
    "# 3. Fit the model"
   ]
  },
  {
   "cell_type": "code",
   "execution_count": null,
   "id": "86089ec1-5ec2-48be-8cda-3b947e076146",
   "metadata": {},
   "outputs": [],
   "source": []
  }
 ],
 "metadata": {
  "kernelspec": {
   "display_name": "Python 3 (ipykernel)",
   "language": "python",
   "name": "python3"
  },
  "language_info": {
   "codemirror_mode": {
    "name": "ipython",
    "version": 3
   },
   "file_extension": ".py",
   "mimetype": "text/x-python",
   "name": "python",
   "nbconvert_exporter": "python",
   "pygments_lexer": "ipython3",
   "version": "3.11.5"
  }
 },
 "nbformat": 4,
 "nbformat_minor": 5
}
